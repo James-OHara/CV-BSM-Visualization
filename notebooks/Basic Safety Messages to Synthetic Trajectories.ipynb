{
 "cells": [
  {
   "cell_type": "markdown",
   "metadata": {},
   "source": [
    "# Part 1 of 2: Basic Safety Messages to Synthetic Trajectories"
   ]
  },
  {
   "cell_type": "markdown",
   "metadata": {},
   "source": [
    "## Imports and Constants\n",
    "\n",
    "#### Imports\n",
    "This implementation of the Basic Safety Messages to Synthetic Trajectories algorithm uses:\n",
    "\n",
    " -  [Pandas](http://pandas.pydata.org) 0.23 :  to store the Basic Safety Messages in an easily searchable and filterable format\n",
    " -  [geopy](https://pypi.org/project/geopy/) 1.13.0: to calculate the new latitude and longitude the vehicle moved to based on a distance and bearing. For more information read the algorithm document.\n",
    "\n",
    "#### Constants\n",
    "MIN_BSM: Minimum number of BSMs that need to found within the time and distance window  \n",
    "TIME_WINDOW: Initial time, in seconds, that messages are searched for within  \n",
    "DISTANCE_WINDOW: Initial distance, in feet, that messages are searched for within  \n",
    "START_TIME: Epoch timestamp when analysis begins  \n",
    "END_TIME: Epoch timestamp when analysis ends  \n",
    "ID: Used to identify unique trajectories, auto-increments  \n",
    "output_filename: The name of the file where the output should be written to"
   ]
  },
  {
   "cell_type": "code",
   "execution_count": 1,
   "metadata": {},
   "outputs": [],
   "source": [
    "import pandas as pd\n",
    "import numpy as np\n",
    "import geopy\n",
    "import geopy.distance\n",
    "import math \n",
    "\n",
    "\n",
    "\n",
    "MIN_BSM = 1\n",
    "TIME_WINDOW = 5\n",
    "DISTANCE_WINDOW = 20\n",
    "START_TIME = 1479310905\n",
    "END_TIME = 1479326400\n",
    "ID = 0\n",
    "\n",
    "output_filename = \"AMCDTrajectories.csv\""
   ]
  },
  {
   "cell_type": "markdown",
   "metadata": {},
   "source": [
    "For this example, the Socrata API is used to query and access Basic Safety Messages from the Advanced Messaging Concept Development Basic Safety Message dataset available on [data.transportation.gov](https://data.transportation.gov/Automobiles/Advanced-Messaging-Concept-Development-Basic-Safet/eezi-v4pm). \n",
    "\n",
    "- **Note** The data source can be any local or online csv source\n",
    "\n",
    "Speed is converted from meters per second to feet per second to work with the algorithm standard. Time Received is divided by 1000 to truncate the data at seconds to make it easier to find messages with X seconds.\n",
    "\n",
    "Routes defines the latitude/longitude pairs making up the critical points of a route on the roadway. Critical points are defined such that the straight line between two critical points follows the same path as the roadway. This can also be a file that is read in to make it easier to edit."
   ]
  },
  {
   "cell_type": "code",
   "execution_count": 2,
   "metadata": {},
   "outputs": [
    {
     "data": {
      "text/html": [
       "<div>\n",
       "<style scoped>\n",
       "    .dataframe tbody tr th:only-of-type {\n",
       "        vertical-align: middle;\n",
       "    }\n",
       "\n",
       "    .dataframe tbody tr th {\n",
       "        vertical-align: top;\n",
       "    }\n",
       "\n",
       "    .dataframe thead th {\n",
       "        text-align: right;\n",
       "    }\n",
       "</style>\n",
       "<table border=\"1\" class=\"dataframe\">\n",
       "  <thead>\n",
       "    <tr style=\"text-align: right;\">\n",
       "      <th></th>\n",
       "      <th>elevation</th>\n",
       "      <th>heading</th>\n",
       "      <th>latitude</th>\n",
       "      <th>longitude</th>\n",
       "      <th>speed</th>\n",
       "      <th>time_received</th>\n",
       "    </tr>\n",
       "  </thead>\n",
       "  <tbody>\n",
       "    <tr>\n",
       "      <th>0</th>\n",
       "      <td>140.4</td>\n",
       "      <td>0.00</td>\n",
       "      <td>38.924071</td>\n",
       "      <td>-77.237130</td>\n",
       "      <td>0.000000</td>\n",
       "      <td>1479310905</td>\n",
       "    </tr>\n",
       "    <tr>\n",
       "      <th>1</th>\n",
       "      <td>140.4</td>\n",
       "      <td>0.00</td>\n",
       "      <td>38.924071</td>\n",
       "      <td>-77.237130</td>\n",
       "      <td>0.000000</td>\n",
       "      <td>1479310905</td>\n",
       "    </tr>\n",
       "    <tr>\n",
       "      <th>2</th>\n",
       "      <td>158.3</td>\n",
       "      <td>0.00</td>\n",
       "      <td>38.916107</td>\n",
       "      <td>-77.227700</td>\n",
       "      <td>0.000000</td>\n",
       "      <td>1479310905</td>\n",
       "    </tr>\n",
       "    <tr>\n",
       "      <th>3</th>\n",
       "      <td>150.5</td>\n",
       "      <td>0.00</td>\n",
       "      <td>38.915815</td>\n",
       "      <td>-77.226548</td>\n",
       "      <td>0.000000</td>\n",
       "      <td>1479310905</td>\n",
       "    </tr>\n",
       "    <tr>\n",
       "      <th>4</th>\n",
       "      <td>149.7</td>\n",
       "      <td>308.85</td>\n",
       "      <td>38.914958</td>\n",
       "      <td>-77.225480</td>\n",
       "      <td>37.795277</td>\n",
       "      <td>1479310905</td>\n",
       "    </tr>\n",
       "  </tbody>\n",
       "</table>\n",
       "</div>"
      ],
      "text/plain": [
       "   elevation  heading   latitude  longitude      speed  time_received\n",
       "0      140.4     0.00  38.924071 -77.237130   0.000000     1479310905\n",
       "1      140.4     0.00  38.924071 -77.237130   0.000000     1479310905\n",
       "2      158.3     0.00  38.916107 -77.227700   0.000000     1479310905\n",
       "3      150.5     0.00  38.915815 -77.226548   0.000000     1479310905\n",
       "4      149.7   308.85  38.914958 -77.225480  37.795277     1479310905"
      ]
     },
     "execution_count": 2,
     "metadata": {},
     "output_type": "execute_result"
    }
   ],
   "source": [
    "data_source = (\"https://data.transportation.gov/resource/5b3h-czfm.csv?\"\n",
    "               \"$where=time_received%20between%201479310905000%20and%201479326400000\"\n",
    "               \"&$limit=700000&$$app_token=QL17HswS1IZjgfNJdj9k2ovzG\")\n",
    "col_to_use = ['time_received', 'latitude', 'longitude', 'speed', 'heading', 'elevation']\n",
    "\n",
    "df_bsms = pd.read_csv(filepath_or_buffer = data_source, header = 0, skipinitialspace = True, usecols = col_to_use)\n",
    "\n",
    "df_bsms['speed'] = df_bsms['speed'].apply(lambda x: x * 3.28084)\n",
    "df_bsms['time_received'] = df_bsms['time_received'].apply(lambda x: int(x / 1000))\n",
    "\n",
    "\n",
    "routes = [[(38.912678, -77.2216596), (38.913925, -77.223756), (38.917122, -77.22882), (38.918959, -77.231256), (38.920387, -77.233466), (38.924985, -77.237457), (38.928508, -77.240858), (38.930185, -77.242462), (38.932781, -77.245117)], [(38.9338843, -77.2465406), (38.929927, -77.242875), (38.928291, -77.241276), (38.926596, -77.239517), (38.924677, -77.237768), (38.921496, -77.234614), (38.920678, -77.233777), (38.919443, -77.232189), (38.9189, -77.231481), (38.91759, -77.229872), (38.91542, -77.226492), (38.913458, -77.223316), (38.911162, -77.219164)], [(38.9291045, -77.2454411), (38.929927, -77.242875), (38.928291, -77.241276), (38.926596, -77.239517), (38.924677, -77.237768), (38.921496, -77.234614), (38.920678, -77.233777), (38.919443, -77.232189), (38.9189, -77.231481), (38.91759, -77.229872), (38.91542, -77.226492), (38.913458, -77.223316), (38.911162, -77.219164)], [(38.912678, -77.2216596), (38.913925, -77.223756), (38.917122, -77.22882), (38.918959, -77.231256), (38.920387, -77.233466), (38.924985, -77.237457), (38.928508, -77.240858), (38.930185, -77.242462), (38.92978, -77.243171), (38.929109, -77.245842)], [(38.9338843, -77.2465406), (38.929927, -77.242875), (38.928291, -77.241276), (38.926596, -77.239517), (38.924677, -77.237768), (38.921496, -77.234614), (38.920678, -77.233777), (38.919443, -77.232189), (38.9189, -77.231481), (38.918499, -77.231138), (38.917894, -77.231288), (38.917719, -77.231883), (38.918065, -77.232404), (38.918495, -77.23228), (38.918883, -77.231299), (38.919142, -77.23022), (38.919342, -77.229013), (38.919522, -77.22778)], [(38.9184973, -77.2257953), (38.917936, -77.225473), (38.917343, -77.225403), (38.916863, -77.225521), (38.915912, -77.22625), (38.915857, -77.226782), (38.917122, -77.22882), (38.918959, -77.231256), (38.920387, -77.233466), (38.924985, -77.237457), (38.928508, -77.240858), (38.930185, -77.242462), (38.932781, -77.245117)], [(38.9338843, -77.2465406), (38.929927, -77.242875), (38.928291, -77.241276), (38.926596, -77.239517), (38.924677, -77.237768), (38.921496, -77.234614), (38.920678, -77.233777), (38.919443, -77.232189), (38.9189, -77.231481), (38.91759, -77.229872), (38.91542, -77.226492), (38.916405, -77.225644), (38.914106, -77.225247), (38.917765, -77.225237), (38.918554, -77.225618)]]\n",
    "rsulocations = [(38.930045,-77.24315),(38.928128,-77.241327),(38.923859,-77.236135),(38.920883,-77.234304),(38.918416,-77.230494),(38.915165,-77.226364)]\n",
    "\n",
    "df_bsms.head()"
   ]
  },
  {
   "cell_type": "markdown",
   "metadata": {},
   "source": [
    "**Algorithm Step 3**: Initialize location l_pof a hypothetical connected vehicle as the start of the route, L_O^R. Initialize time t_pwhen hypothetical connected vehicle is at location l_p as t ̅. Write Tid and l_p to output file."
   ]
  },
  {
   "cell_type": "code",
   "execution_count": 3,
   "metadata": {},
   "outputs": [],
   "source": [
    "def getId():\n",
    "    global ID\n",
    "    ID += 1\n",
    "    return ID\n",
    "\n",
    "def initialize_vehicle(route, time):\n",
    "    scaled_time = (time - START_TIME)/(END_TIME - START_TIME)\n",
    "    altitude = scaled_time * 1000\n",
    "    vehicle = {\n",
    "        'time': time,\n",
    "        'lat': route[0][0],\n",
    "        'lon': route[0][1],\n",
    "        'heading': find_heading(route[0],route[1]),\n",
    "        'id': getId(),\n",
    "        'link': 0,\n",
    "        'altitude': altitude,\n",
    "        'inRange':False,\n",
    "        'end': False\n",
    "    }\n",
    "    return vehicle"
   ]
  },
  {
   "cell_type": "markdown",
   "metadata": {},
   "source": [
    "**Algorithm Step 4**: Calculate the hypothetical connected vehicle’s heading h_p as the bearing between two points L and L+1, such that L ∈ (L_O^R,L_D^R) for the current roadway segment the hypothetical connected vehicle is on  "
   ]
  },
  {
   "cell_type": "code",
   "execution_count": 4,
   "metadata": {},
   "outputs": [],
   "source": [
    "def find_heading(pointA, pointB):\n",
    "    lat1 = math.radians(pointA[0])\n",
    "    lat2 = math.radians(pointB[0])\n",
    "\n",
    "    diffLong = math.radians(pointB[1] - pointA[1])\n",
    "\n",
    "    x = math.sin(diffLong) * math.cos(lat2)\n",
    "    y = math.cos(lat1) * math.sin(lat2) - (math.sin(lat1)\n",
    "            * math.cos(lat2) * math.cos(diffLong))\n",
    "\n",
    "    initial_bearing = math.atan2(x, y)\n",
    "\n",
    "    initial_bearing = math.degrees(initial_bearing)\n",
    "    compass_bearing = (initial_bearing + 360) % 360\n",
    "\n",
    "    return compass_bearing"
   ]
  },
  {
   "cell_type": "markdown",
   "metadata": {},
   "source": [
    "**Algorithm Step 5**: Search for all messages that are generated on the route within a pre-defined time-space region from l_p. "
   ]
  },
  {
   "cell_type": "code",
   "execution_count": 5,
   "metadata": {},
   "outputs": [],
   "source": [
    "def get_bsms(vehicle, df_heading, route, time_max = TIME_WINDOW, distance_max = DISTANCE_WINDOW):\n",
    "    df_time = df_heading[(abs(vehicle['time'] - df_heading['time_received']) <= time_max)]\n",
    "    df_dist = df_time[df_time['distance'] <= distance_max]\n",
    "\n",
    "    if len(df_dist) >= MIN_BSM:\n",
    "        return df_dist\n",
    "    # Maximum search time to prevent an infinte loop in the case that no messages are found\n",
    "    elif time_max > 600:\n",
    "        return None\n",
    "    else:\n",
    "        return get_bsms(vehicle, df_heading, route, time_max + TIME_WINDOW, distance_max + DISTANCE_WINDOW)"
   ]
  },
  {
   "cell_type": "markdown",
   "metadata": {},
   "source": [
    "**Algorithm Step 7**: For each message, i from Step 5, assign a weight:  \n",
    "\t\n",
    "w_i=  1⁄√((t_p-t_i )^2+(DIS(i,l_p )/v_i )^2 )\n"
   ]
  },
  {
   "cell_type": "code",
   "execution_count": 6,
   "metadata": {},
   "outputs": [],
   "source": [
    "def calculateWeight(vehicle,time,distance,speed):\n",
    "    time_diff = (vehicle['time'] - time)**2\n",
    "    if distance == 0.0:\n",
    "        distance = 0.0001\n",
    "    if speed != 0.0:\n",
    "        dis_diff = (distance/speed)**2\n",
    "    else:\n",
    "        dis_diff = (distance/0.0001)**2\n",
    "    message_weight = 1/(time_diff + distance**2)**.5\n",
    "    return message_weight"
   ]
  },
  {
   "cell_type": "markdown",
   "metadata": {},
   "source": [
    "**Algorithm Step 10**: Move the hypothetical connected vehicle to a new location along the route, which is the distance (in feet) it can travel in 4 seconds at a speed of v_p fps"
   ]
  },
  {
   "cell_type": "code",
   "execution_count": 7,
   "metadata": {},
   "outputs": [],
   "source": [
    "def move_vehicle(vehicle, new_speed, distance_to_move, route):\n",
    "    distance_remaining = geopy.distance.vincenty((vehicle['lat'],vehicle['lon']),route[vehicle['link'] + 1]).feet\n",
    "    if distance_to_move > distance_remaining:\n",
    "        distance_to_move = distance_to_move - distance_remaining\n",
    "        if not (vehicle['link'] + 2) == len(route):\n",
    "            vehicle[\"link\"] = vehicle['link'] + 1\n",
    "            vehicle['lat'] = route[vehicle['link']][0]\n",
    "            vehicle['lon'] = route[vehicle['link']][1]\n",
    "            vehicle['heading'] = find_heading(route[vehicle['link']],route[vehicle['link'] + 1])\n",
    "            move_vehicle(vehicle, new_speed, distance_to_move, route)\n",
    "        else:\n",
    "            finishTrip(vehicle, route, distance_remaining, new_speed)\n",
    "    else:\n",
    "        new_point = travelDistance((vehicle[\"lat\"], vehicle[\"lon\"]), vehicle['heading'], distance_to_move)\n",
    "        vehicle['lat'] = float(new_point[0])\n",
    "        vehicle['lon'] = float(new_point[1])\n",
    "\n",
    "def travelDistance(origin, bearing, distance):\n",
    "    return geopy.distance.vincenty(feet = distance).destination(point = origin, bearing = bearing).format_decimal().split(',')"
   ]
  },
  {
   "cell_type": "markdown",
   "metadata": {},
   "source": [
    "**Algorithm Step 11**: Calculate the vehicles “altitude” in time using the following formula:  \n",
    "\n",
    "a_p=10000*((t_p-T_S)/(T_F- T_S ))+e_p\n"
   ]
  },
  {
   "cell_type": "code",
   "execution_count": 8,
   "metadata": {},
   "outputs": [],
   "source": [
    "def calculateAltitude(vehicle, elevation):\n",
    "    scaled_time = (vehicle['time'] - START_TIME)/(END_TIME - START_TIME)\n",
    "    altitude = scaled_time * 1000\n",
    "    vehicle['altitude'] = altitude + elevation"
   ]
  },
  {
   "cell_type": "markdown",
   "metadata": {},
   "source": [
    "**Algorithm Step 12**: Determine whether the position l_p is within 300 meters of the position of a roadside unit, r_i in the set of r"
   ]
  },
  {
   "cell_type": "code",
   "execution_count": 9,
   "metadata": {},
   "outputs": [],
   "source": [
    "def inRange(vehicle,rsulocations):\n",
    "    for rsu in rsulocations:\n",
    "        if geopy.distance.vincenty(rsu, (vehicle['lat'],vehicle['lon'])).meters <= 300:\n",
    "            vehicle['inRange'] = True\n",
    "            return\n",
    "    vehicle['inRange'] = False"
   ]
  },
  {
   "cell_type": "markdown",
   "metadata": {},
   "source": [
    "**Algorithm Step 14**: Check if new location from Step 9 is greater than or equal to L_D^R. If position is greater, reset the position and time to L_D^R and set vehicle['end'] to true."
   ]
  },
  {
   "cell_type": "code",
   "execution_count": 10,
   "metadata": {},
   "outputs": [],
   "source": [
    "def finishTrip(vehicle, route, distance, new_speed):\n",
    "    vehicle[\"link\"] = vehicle['link'] + 1\n",
    "    vehicle['lat'] = route[vehicle['link']][0]\n",
    "    vehicle['lon'] = route[vehicle['link']][1]\n",
    "    vehicle['time'] = vehicle['time'] - (distance/new_speed)\n",
    "    vehicle['end'] = True"
   ]
  },
  {
   "cell_type": "markdown",
   "metadata": {},
   "source": [
    "Calculates the Great Circle distance between two series of points at once using numpy. Helper method for Step 5, finding messages within the distance window."
   ]
  },
  {
   "cell_type": "code",
   "execution_count": 11,
   "metadata": {},
   "outputs": [],
   "source": [
    "def haversine(lat1,lon1,lat2,lon2):\n",
    "    latRad1 = np.deg2rad(lat1)\n",
    "    latRad2 = np.deg2rad(lat2)\n",
    "    deltaLat = np.deg2rad(lat2 - lat1)\n",
    "    deltaLon = np.deg2rad(lon2-lon1)\n",
    "    a = np.sin(deltaLat/2)**2 + np.cos(latRad1) * np.cos(latRad2) * np.sin(deltaLon/2)**2\n",
    "    c = 2 * np.arcsin(np.sqrt(a))\n",
    "    return 3959 * 5280 * c"
   ]
  },
  {
   "cell_type": "markdown",
   "metadata": {},
   "source": [
    "**Algorithm Step 13**: Write the trip id Tid, position l_p,  time t_p, altitude a_p, speed v_p and heading h_p  to the trajectories output file "
   ]
  },
  {
   "cell_type": "code",
   "execution_count": 12,
   "metadata": {},
   "outputs": [],
   "source": [
    "def write_output(out_f, output):\n",
    "    for row in output:\n",
    "        out_f.write(\"{},{},{},{},{},{},{},{}\\n\".format(row[0], row[1], row[2], row[3], row[4], row[5], row[6],row[7]))"
   ]
  },
  {
   "cell_type": "markdown",
   "metadata": {},
   "source": [
    "The main function. Calls above functions to process algorithm steps. Also performs the following steps:\n",
    "\n",
    "**Algorithm Step 1**: For each Route, R in the network, find L_O^R and L_D^R.  Do steps 2-12.  \n",
    "\n",
    "**Algorithm Step 2**: For time t ̅∈T ̅, do steps 3-12.  \n",
    "\n",
    "**Algortihm Step 8**: Rank order all BSMs identified in Step 5 in descending order based on the weights from Step 7. Let m be the total number of BSMs that lie within the pre-specified time-space region.\n",
    "\n",
    "**Algorithm Step 9**: Calculate the speed and elevation of the hypothetical connected vehicle that starts its trip at time t ̅ as follows:  \n",
    "v_p=  (∑(i=1)^(Min(m,8))(w_i * v_i))/(∑(i=1)^(Min(m,8))w_i)  \n",
    "e_p=  (∑(i=1)^(Min(m,8))(w_i * a_i))/(∑(i=1)^(Min(m,8))w_i)  \n",
    "\n",
    "For each time step, it limits the number of BSMs to search by vehicle heading, then calculates the distances between the messages and current hypothetical vehicle position before calling get_bsms.\n",
    "\n",
    "**Note**: This process takes around an hour to run and possibly more depending on the BSM file used"
   ]
  },
  {
   "cell_type": "code",
   "execution_count": 13,
   "metadata": {},
   "outputs": [
    {
     "name": "stdout",
     "output_type": "stream",
     "text": [
      "27 out of 52 trajectories completed for route 0\n",
      "23 out of 52 trajectories completed for route 1\n",
      "5 out of 52 trajectories completed for route 2\n",
      "27 out of 52 trajectories completed for route 3\n",
      "23 out of 52 trajectories completed for route 4\n",
      "21 out of 52 trajectories completed for route 5\n",
      "20 out of 52 trajectories completed for route 6\n"
     ]
    }
   ],
   "source": [
    "#Used to hide unneeded warning messages\n",
    "import warnings\n",
    "warnings.filterwarnings('ignore')\n",
    "\n",
    "def process_bsms(df_bsms, routes, rsulocations, output_filename):\n",
    "    output = []\n",
    "\n",
    "    with open(output_filename, 'w') as out_f:\n",
    "        out_f.write('id,lat,long,tic,alt,speed,heading,inrangeofrsu\\n')\n",
    "        for route in routes:\n",
    "            not_complete = 0\n",
    "            complete = 0\n",
    "            for clocktime in range(START_TIME,END_TIME,300):\n",
    "                output = []\n",
    "                vehicle = initialize_vehicle(route, clocktime)\n",
    "                output.append((vehicle['id'], vehicle['lat'], vehicle['lon'], vehicle['time'], vehicle['altitude'],0, vehicle['heading'],vehicle['inRange']))\n",
    "                while not vehicle['end']:\n",
    "                    df_onRoute = df_bsms[(abs(vehicle['heading'] - df_bsms['heading']) <= 22.5)]\n",
    "                    df_onRoute['distance'] = haversine(vehicle['lat'],vehicle['lon'],df_onRoute['latitude'],df_onRoute['longitude'])\n",
    "                    df_messages = get_bsms(vehicle, df_onRoute, route)\n",
    "                    if df_messages is None:\n",
    "                        not_complete += 1\n",
    "                        break\n",
    "                    df_messages['message_weight'] = df_messages.apply(lambda x: calculateWeight(vehicle,x['time_received'],x['distance'],x['speed']),axis=1)\n",
    "                    df_messages = df_messages.sort_values(by=['message_weight'],ascending=False)\n",
    "                    df_messages = df_messages[:min(len(df_messages),8)]\n",
    "                    df_messages['weightedSpeed'] = df_messages['message_weight'] * df_messages['speed']\n",
    "                    df_messages['weightedElevation'] = df_messages['message_weight'] * df_messages['elevation']\n",
    "                    new_speed_numerator = df_messages['weightedSpeed'].sum()\n",
    "                    elevation_numerator = df_messages['weightedElevation'].sum()\n",
    "                    denominator = df_messages['message_weight'].sum()\n",
    "                    new_speed = new_speed_numerator/denominator\n",
    "                    elevation = elevation_numerator/denominator\n",
    "                    distance_to_travel = new_speed * 4 \n",
    "                    vehicle['time'] += 4\n",
    "                    move_vehicle(vehicle, new_speed, distance_to_travel, route)\n",
    "                    calculateAltitude(vehicle, elevation)\n",
    "                    inRange(vehicle, rsulocations)\n",
    "                    output.append((vehicle['id'], vehicle['lat'], vehicle['lon'], vehicle['time'], vehicle['altitude'],new_speed, vehicle['heading'],vehicle['inRange']))\n",
    "                if vehicle['end']:\n",
    "                    complete += 1\n",
    "                    write_output(out_f,output)\n",
    "            print(\"{} out of {} trajectories completed for route {}\".format(complete,complete+not_complete,routes.index(route)))\n",
    "\n",
    "process_bsms(df_bsms,routes,rsulocations,output_filename)"
   ]
  }
 ],
 "metadata": {
  "celltoolbar": "Raw Cell Format",
  "kernelspec": {
   "display_name": "Python 3",
   "language": "python",
   "name": "python3"
  },
  "language_info": {
   "codemirror_mode": {
    "name": "ipython",
    "version": 3
   },
   "file_extension": ".py",
   "mimetype": "text/x-python",
   "name": "python",
   "nbconvert_exporter": "python",
   "pygments_lexer": "ipython3",
   "version": "3.6.3"
  }
 },
 "nbformat": 4,
 "nbformat_minor": 2
}
