{
 "cells": [
  {
   "cell_type": "markdown",
   "metadata": {},
   "source": [
    "# Part 1a of 2: Calculating Additional Statistics for Charts\n",
    "\n",
    "## Note this is optional code used for creating the data needed for Part 2a"
   ]
  },
  {
   "cell_type": "markdown",
   "metadata": {},
   "source": [
    "## Imports and Constants\n",
    "\n",
    "#### Imports\n",
    "This implementation of the Basic Safety Messages to Synthetic Trajectories algorithm uses:\n",
    "\n",
    " -  [Pandas](http://pandas.pydata.org) 0.23 :  to store the Basic Safety Messages in an easily searchable and filterable format\n",
    " -  [geopy](https://pypi.org/project/geopy/) 1.13.0: to calculate the new latitude and longitude the vehicle moved to based on a distance and bearing. For more information read the algorithm document."
   ]
  },
  {
   "cell_type": "code",
   "execution_count": 1,
   "metadata": {},
   "outputs": [],
   "source": [
    "import pandas as pd\n",
    "import geopy.distance"
   ]
  },
  {
   "cell_type": "markdown",
   "metadata": {},
   "source": [
    "For this example, the Socrata API is used to query and access Basic Safety Messages from the Advanced Messaging Concept Development Basic Safety Message dataset available on [data.transportation.gov](https://data.transportation.gov/Automobiles/Advanced-Messaging-Concept-Development-Basic-Safet/eezi-v4pm). \n",
    "\n",
    "- **Note** The data source can be any local or online csv source\n",
    "\n",
    "Speed is converted from meters per second to feet per second to match the trajectories results. Time Received is divided by 100 to truncate the data at tenth of a second so that every message with the same timestamp is known to be a different vehicle."
   ]
  },
  {
   "cell_type": "code",
   "execution_count": 2,
   "metadata": {},
   "outputs": [
    {
     "data": {
      "text/html": [
       "<div>\n",
       "<style scoped>\n",
       "    .dataframe tbody tr th:only-of-type {\n",
       "        vertical-align: middle;\n",
       "    }\n",
       "\n",
       "    .dataframe tbody tr th {\n",
       "        vertical-align: top;\n",
       "    }\n",
       "\n",
       "    .dataframe thead th {\n",
       "        text-align: right;\n",
       "    }\n",
       "</style>\n",
       "<table border=\"1\" class=\"dataframe\">\n",
       "  <thead>\n",
       "    <tr style=\"text-align: right;\">\n",
       "      <th></th>\n",
       "      <th>elevation</th>\n",
       "      <th>heading</th>\n",
       "      <th>latitude</th>\n",
       "      <th>longitude</th>\n",
       "      <th>speed</th>\n",
       "      <th>time_received</th>\n",
       "    </tr>\n",
       "  </thead>\n",
       "  <tbody>\n",
       "    <tr>\n",
       "      <th>0</th>\n",
       "      <td>140.4</td>\n",
       "      <td>0.00</td>\n",
       "      <td>38.924071</td>\n",
       "      <td>-77.237130</td>\n",
       "      <td>0.000000</td>\n",
       "      <td>14793109050</td>\n",
       "    </tr>\n",
       "    <tr>\n",
       "      <th>1</th>\n",
       "      <td>140.4</td>\n",
       "      <td>0.00</td>\n",
       "      <td>38.924071</td>\n",
       "      <td>-77.237130</td>\n",
       "      <td>0.000000</td>\n",
       "      <td>14793109050</td>\n",
       "    </tr>\n",
       "    <tr>\n",
       "      <th>2</th>\n",
       "      <td>158.3</td>\n",
       "      <td>0.00</td>\n",
       "      <td>38.916107</td>\n",
       "      <td>-77.227700</td>\n",
       "      <td>0.000000</td>\n",
       "      <td>14793109050</td>\n",
       "    </tr>\n",
       "    <tr>\n",
       "      <th>3</th>\n",
       "      <td>150.5</td>\n",
       "      <td>0.00</td>\n",
       "      <td>38.915815</td>\n",
       "      <td>-77.226548</td>\n",
       "      <td>0.000000</td>\n",
       "      <td>14793109050</td>\n",
       "    </tr>\n",
       "    <tr>\n",
       "      <th>4</th>\n",
       "      <td>149.7</td>\n",
       "      <td>308.85</td>\n",
       "      <td>38.914958</td>\n",
       "      <td>-77.225480</td>\n",
       "      <td>37.795277</td>\n",
       "      <td>14793109050</td>\n",
       "    </tr>\n",
       "  </tbody>\n",
       "</table>\n",
       "</div>"
      ],
      "text/plain": [
       "   elevation  heading   latitude  longitude      speed  time_received\n",
       "0      140.4     0.00  38.924071 -77.237130   0.000000    14793109050\n",
       "1      140.4     0.00  38.924071 -77.237130   0.000000    14793109050\n",
       "2      158.3     0.00  38.916107 -77.227700   0.000000    14793109050\n",
       "3      150.5     0.00  38.915815 -77.226548   0.000000    14793109050\n",
       "4      149.7   308.85  38.914958 -77.225480  37.795277    14793109050"
      ]
     },
     "execution_count": 2,
     "metadata": {},
     "output_type": "execute_result"
    }
   ],
   "source": [
    "data_source = (\"https://data.transportation.gov/resource/5b3h-czfm.csv?\"\n",
    "               \"$where=time_received%20between%201479310905000%20and%201479326400000\"\n",
    "               \"&$limit=700000&$$app_token=QL17HswS1IZjgfNJdj9k2ovzG\")\n",
    "col_to_use = ['time_received', 'latitude', 'longitude', 'speed', 'heading', 'elevation']\n",
    "\n",
    "df_bsms = pd.read_csv(filepath_or_buffer = data_source, header = 0, skipinitialspace = True, usecols = col_to_use)\n",
    "\n",
    "df_bsms['speed'] = df_bsms['speed'].apply(lambda x: x * 3.28084)\n",
    "df_bsms['time_received'] = df_bsms['time_received'].apply(lambda x: int(x / 100))\n",
    "df_bsms.head()"
   ]
  },
  {
   "cell_type": "markdown",
   "metadata": {},
   "source": [
    "Groups the messages by Time Received, counts the number of messages at each timestamp, then adds a new column for Number of Vehicles with that count."
   ]
  },
  {
   "cell_type": "code",
   "execution_count": 3,
   "metadata": {},
   "outputs": [
    {
     "data": {
      "text/html": [
       "<div>\n",
       "<style scoped>\n",
       "    .dataframe tbody tr th:only-of-type {\n",
       "        vertical-align: middle;\n",
       "    }\n",
       "\n",
       "    .dataframe tbody tr th {\n",
       "        vertical-align: top;\n",
       "    }\n",
       "\n",
       "    .dataframe thead th {\n",
       "        text-align: right;\n",
       "    }\n",
       "</style>\n",
       "<table border=\"1\" class=\"dataframe\">\n",
       "  <thead>\n",
       "    <tr style=\"text-align: right;\">\n",
       "      <th></th>\n",
       "      <th>time_received</th>\n",
       "      <th>Number of Vehicles</th>\n",
       "    </tr>\n",
       "  </thead>\n",
       "  <tbody>\n",
       "    <tr>\n",
       "      <th>0</th>\n",
       "      <td>14793109050</td>\n",
       "      <td>5</td>\n",
       "    </tr>\n",
       "    <tr>\n",
       "      <th>1</th>\n",
       "      <td>14793109051</td>\n",
       "      <td>6</td>\n",
       "    </tr>\n",
       "    <tr>\n",
       "      <th>2</th>\n",
       "      <td>14793109052</td>\n",
       "      <td>5</td>\n",
       "    </tr>\n",
       "    <tr>\n",
       "      <th>3</th>\n",
       "      <td>14793109053</td>\n",
       "      <td>5</td>\n",
       "    </tr>\n",
       "    <tr>\n",
       "      <th>4</th>\n",
       "      <td>14793109054</td>\n",
       "      <td>5</td>\n",
       "    </tr>\n",
       "  </tbody>\n",
       "</table>\n",
       "</div>"
      ],
      "text/plain": [
       "   time_received  Number of Vehicles\n",
       "0    14793109050                   5\n",
       "1    14793109051                   6\n",
       "2    14793109052                   5\n",
       "3    14793109053                   5\n",
       "4    14793109054                   5"
      ]
     },
     "execution_count": 3,
     "metadata": {},
     "output_type": "execute_result"
    }
   ],
   "source": [
    "df_grouped = pd.DataFrame({'Number of Vehicles' : df_bsms.groupby( ['time_received'] ).size()}).reset_index()\n",
    "df_grouped.to_csv(path_or_buf = \"VehicleCount.csv\", index = False)\n",
    "df_grouped.head()"
   ]
  },
  {
   "cell_type": "markdown",
   "metadata": {},
   "source": [
    "RSU locations is the centerpoints of the Roadside Units in the study. These were found in the metadata document attached to the AMCD Basic Safety Message dataset. \n",
    "\n",
    "inRange uses the geopy library to determine the distance in meters between the message generation location and the RSU location. If the distance is less than 300 meters the message is designated as in range."
   ]
  },
  {
   "cell_type": "code",
   "execution_count": 4,
   "metadata": {},
   "outputs": [],
   "source": [
    "rsulocations = [(38.930045,-77.24315),(38.928128,-77.241327),(38.923859,-77.236135),(38.920883,-77.234304),(38.918416,-77.230494),(38.915165,-77.226364)]\n",
    "\n",
    "def inRange(rsus, bsm):\n",
    "    for rsu in rsus:\n",
    "        if geopy.distance.vincenty(rsu, bsm).meters <= 300:\n",
    "            return True\n",
    "    return False"
   ]
  },
  {
   "cell_type": "markdown",
   "metadata": {},
   "source": [
    "Adds column inrangeofrsu for each message, then groups the data by time recieved and whether the vehicle was in range or not. Creates a pivot table to display the results with time received as the independent variable. "
   ]
  },
  {
   "cell_type": "code",
   "execution_count": 5,
   "metadata": {},
   "outputs": [
    {
     "data": {
      "text/html": [
       "<div>\n",
       "<style scoped>\n",
       "    .dataframe tbody tr th:only-of-type {\n",
       "        vertical-align: middle;\n",
       "    }\n",
       "\n",
       "    .dataframe tbody tr th {\n",
       "        vertical-align: top;\n",
       "    }\n",
       "\n",
       "    .dataframe thead th {\n",
       "        text-align: right;\n",
       "    }\n",
       "</style>\n",
       "<table border=\"1\" class=\"dataframe\">\n",
       "  <thead>\n",
       "    <tr style=\"text-align: right;\">\n",
       "      <th></th>\n",
       "      <th>time_received</th>\n",
       "      <th>False</th>\n",
       "      <th>True</th>\n",
       "    </tr>\n",
       "  </thead>\n",
       "  <tbody>\n",
       "    <tr>\n",
       "      <th>0</th>\n",
       "      <td>14793109050</td>\n",
       "      <td>0</td>\n",
       "      <td>5</td>\n",
       "    </tr>\n",
       "    <tr>\n",
       "      <th>1</th>\n",
       "      <td>14793109051</td>\n",
       "      <td>1</td>\n",
       "      <td>5</td>\n",
       "    </tr>\n",
       "    <tr>\n",
       "      <th>2</th>\n",
       "      <td>14793109052</td>\n",
       "      <td>0</td>\n",
       "      <td>5</td>\n",
       "    </tr>\n",
       "    <tr>\n",
       "      <th>3</th>\n",
       "      <td>14793109053</td>\n",
       "      <td>0</td>\n",
       "      <td>5</td>\n",
       "    </tr>\n",
       "    <tr>\n",
       "      <th>4</th>\n",
       "      <td>14793109054</td>\n",
       "      <td>0</td>\n",
       "      <td>5</td>\n",
       "    </tr>\n",
       "  </tbody>\n",
       "</table>\n",
       "</div>"
      ],
      "text/plain": [
       "   time_received  False  True\n",
       "0    14793109050      0     5\n",
       "1    14793109051      1     5\n",
       "2    14793109052      0     5\n",
       "3    14793109053      0     5\n",
       "4    14793109054      0     5"
      ]
     },
     "execution_count": 5,
     "metadata": {},
     "output_type": "execute_result"
    }
   ],
   "source": [
    "df_bsms['inrangeofrsu']  = df_bsms.apply(lambda x: inRange(rsulocations,(x['latitude'],x['longitude'])),axis=1)\n",
    "\n",
    "df_grouped2 = pd.DataFrame({'Number of Vehicles' : df_bsms.groupby(['time_received', 'inrangeofrsu']).size()}).reset_index()\n",
    "pt = pd.pivot_table(df_grouped2, values = 'Number of Vehicles', index='time_received', columns='inrangeofrsu', fill_value=0.0)\n",
    "df_flat = pd.DataFrame(pt.to_records())\n",
    "df_flat.to_csv(path_or_buf=\"VehicleCountInRSURange.csv\", index = False)\n",
    "df_flat.head()"
   ]
  }
 ],
 "metadata": {
  "kernelspec": {
   "display_name": "Python 3",
   "language": "python",
   "name": "python3"
  },
  "language_info": {
   "codemirror_mode": {
    "name": "ipython",
    "version": 3
   },
   "file_extension": ".py",
   "mimetype": "text/x-python",
   "name": "python",
   "nbconvert_exporter": "python",
   "pygments_lexer": "ipython3",
   "version": "3.6.3"
  }
 },
 "nbformat": 4,
 "nbformat_minor": 2
}
